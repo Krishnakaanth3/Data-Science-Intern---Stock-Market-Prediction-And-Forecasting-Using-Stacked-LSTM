{
 "cells": [
  {
   "cell_type": "markdown",
   "id": "a4489ffb",
   "metadata": {},
   "source": [
    "TASK 4 (Beginner LEVEL TASK) Stock Market Prediction and Forecasting using Stacked LSTM\n",
    "\n",
    "Objective: To build a model using Recurrent Neural Networks (RNN) and especially Long-Short Term Memory model (LSTM) to predict future stock market values."
   ]
  },
  {
   "cell_type": "markdown",
   "id": "330d1c9d",
   "metadata": {},
   "source": [
    "Importing Libraries"
   ]
  },
  {
   "cell_type": "code",
   "execution_count": null,
   "id": "04d84d07",
   "metadata": {},
   "outputs": [],
   "source": [
    "import numpy as np\n",
    "import pandas as pd\n",
    "import matplotlib.pyplot as plt\n",
    "import seaborn as sns"
   ]
  },
  {
   "cell_type": "markdown",
   "id": "ee8c20fa",
   "metadata": {},
   "source": [
    "Reading the dataset"
   ]
  },
  {
   "cell_type": "code",
   "execution_count": null,
   "id": "79e31d91",
   "metadata": {},
   "outputs": [],
   "source": [
    "url= \"https://raw.githubusercontent.com/mwitiderrick/stockprice/master/NSE-TATAGLOBAL.csv\"\n",
    "df=pd.read_csv(url)"
   ]
  },
  {
   "cell_type": "code",
   "execution_count": null,
   "id": "b30702ad",
   "metadata": {},
   "outputs": [],
   "source": [
    "df.head()"
   ]
  },
  {
   "cell_type": "code",
   "execution_count": null,
   "id": "7a6a8780",
   "metadata": {},
   "outputs": [],
   "source": [
    "df.tail()"
   ]
  },
  {
   "cell_type": "code",
   "execution_count": null,
   "id": "ef48db36",
   "metadata": {},
   "outputs": [],
   "source": [
    "print(df.shape)\n",
    "print(len(df))"
   ]
  },
  {
   "cell_type": "code",
   "execution_count": null,
   "id": "57dcd08c",
   "metadata": {},
   "outputs": [],
   "source": [
    "df.info()\n",
    "df.describe()"
   ]
  },
  {
   "cell_type": "code",
   "execution_count": null,
   "id": "e49df881",
   "metadata": {},
   "outputs": [],
   "source": [
    "df['Date'] = pd.to_datetime(df['Date'])"
   ]
  },
  {
   "cell_type": "code",
   "execution_count": null,
   "id": "560671c9",
   "metadata": {},
   "outputs": [],
   "source": [
    "df.sort_values(by='Date',ignore_index=True,inplace=True) #Sorting Values w.r.t the dates\n",
    "df"
   ]
  },
  {
   "cell_type": "code",
   "execution_count": null,
   "id": "c09a726e",
   "metadata": {},
   "outputs": [],
   "source": [
    "df_close = df.reset_index()['Close']\n",
    "df_close"
   ]
  },
  {
   "cell_type": "markdown",
   "id": "b14cc9bd",
   "metadata": {},
   "source": [
    "Plotting the Close value"
   ]
  },
  {
   "cell_type": "code",
   "execution_count": null,
   "id": "7ac28f90",
   "metadata": {},
   "outputs": [],
   "source": [
    "df_close.plot()"
   ]
  },
  {
   "cell_type": "code",
   "execution_count": null,
   "id": "30917242",
   "metadata": {},
   "outputs": [],
   "source": [
    "from sklearn.preprocessing import MinMaxScaler\n",
    "scale = MinMaxScaler(feature_range=(0,1))\n",
    "df1 = scale.fit_transform(np.array(df_close).reshape(-1,1))\n",
    "df1"
   ]
  },
  {
   "cell_type": "markdown",
   "id": "ebbbda93",
   "metadata": {},
   "source": [
    "Spiltting the data into train and test"
   ]
  },
  {
   "cell_type": "code",
   "execution_count": null,
   "id": "758464f6",
   "metadata": {},
   "outputs": [],
   "source": [
    "train_size = int(len(df1)*0.80)\n",
    "test_size = len(df1)-train_size\n",
    "train_data = df1[0:train_size,:]\n",
    "test_data = df1[train_size:len(df1),:]"
   ]
  },
  {
   "cell_type": "code",
   "execution_count": null,
   "id": "68b836af",
   "metadata": {},
   "outputs": [],
   "source": [
    "train_data"
   ]
  },
  {
   "cell_type": "code",
   "execution_count": null,
   "id": "8e088c8a",
   "metadata": {},
   "outputs": [],
   "source": [
    "test_data"
   ]
  },
  {
   "cell_type": "code",
   "execution_count": null,
   "id": "2bcf45b7",
   "metadata": {},
   "outputs": [],
   "source": [
    "time_step = 100\n",
    "x_train,y_train = [],[]\n",
    "for i in range(len(train_data)-time_step-1):\n",
    "    a = train_data[i:(i+time_step),0]\n",
    "    x_train.append(a)\n",
    "    y_train.append(train_data[i+ time_step,0])\n",
    "x_train,y_train = np.array(x_train),np.array(y_train)"
   ]
  },
  {
   "cell_type": "code",
   "execution_count": null,
   "id": "1aef2470",
   "metadata": {},
   "outputs": [],
   "source": [
    "x_test,y_test = [],[]\n",
    "for i in range(len(test_data)-time_step-1):\n",
    "    b = test_data[i:(i+time_step),0]\n",
    "    x_test.append(b)\n",
    "    y_test.append(test_data[i+time_step,0])\n",
    "x_test,y_test = np.array(x_test),np.array(y_test)"
   ]
  },
  {
   "cell_type": "code",
   "execution_count": null,
   "id": "d89f607d",
   "metadata": {},
   "outputs": [],
   "source": [
    "print(\"X_train shape :\", x_train.shape)\n",
    "print(\"Y_train shape :\", y_train.shape)\n",
    "print(\"X_test shape  :\", x_test.shape)\n",
    "print(\"Y_test shape  :\", y_test.shape)"
   ]
  },
  {
   "cell_type": "code",
   "execution_count": null,
   "id": "adb8ba45",
   "metadata": {},
   "outputs": [],
   "source": [
    "x_train = x_train.reshape(x_train.shape[0],x_train.shape[1],1)\n",
    "x_test  = x_test.reshape(x_test.shape[0],x_test.shape[1],1)"
   ]
  },
  {
   "cell_type": "code",
   "execution_count": null,
   "id": "9c7de2ee",
   "metadata": {},
   "outputs": [],
   "source": [
    "print(\"X_train shape :\", x_train.shape)\n",
    "print(\"Y_train shape :\", y_train.shape)\n",
    "print(\"X_test shape  :\", x_test.shape)\n",
    "print(\"Y_test shape  :\", y_test.shape)"
   ]
  },
  {
   "cell_type": "markdown",
   "id": "aca2dcc2",
   "metadata": {},
   "source": [
    "Importing libraries for the Neural Network"
   ]
  },
  {
   "cell_type": "code",
   "execution_count": null,
   "id": "47d05648",
   "metadata": {},
   "outputs": [],
   "source": [
    "from tensorflow.keras.models import Sequential\n",
    "from tensorflow.keras.layers import LSTM, Dense,Dropout"
   ]
  },
  {
   "cell_type": "markdown",
   "id": "e54682d2",
   "metadata": {},
   "source": [
    "Building the Model"
   ]
  },
  {
   "cell_type": "code",
   "execution_count": null,
   "id": "9da134ee",
   "metadata": {},
   "outputs": [],
   "source": [
    "model = Sequential()\n",
    "#Adding the 1st layer of stacked lstm model\n",
    "model.add(LSTM(units=50, return_sequences=True,input_shape=(x_train.shape[1],x_train.shape[2])))\n",
    "model.add(Dropout(0.2))"
   ]
  },
  {
   "cell_type": "code",
   "execution_count": null,
   "id": "11c7d358",
   "metadata": {},
   "outputs": [],
   "source": [
    "model.add(LSTM(units=50, return_sequences=True))\n",
    "model.add(Dropout(0.2))"
   ]
  },
  {
   "cell_type": "code",
   "execution_count": null,
   "id": "9f89876f",
   "metadata": {},
   "outputs": [],
   "source": [
    "model.add(LSTM(units=50, return_sequences=True))\n",
    "model.add(Dropout(0.2))"
   ]
  },
  {
   "cell_type": "code",
   "execution_count": null,
   "id": "888d8561",
   "metadata": {},
   "outputs": [],
   "source": [
    "model.add(LSTM(units=50))\n",
    "model.add(Dropout(0.2))"
   ]
  },
  {
   "cell_type": "code",
   "execution_count": null,
   "id": "2695ffa9",
   "metadata": {},
   "outputs": [],
   "source": [
    "model.add(Dense(units=1))"
   ]
  },
  {
   "cell_type": "code",
   "execution_count": null,
   "id": "2a897a75",
   "metadata": {},
   "outputs": [],
   "source": [
    "model.compile(optimizer='adam', loss='mean_squared_error')\n",
    "model.summary()"
   ]
  },
  {
   "cell_type": "code",
   "execution_count": null,
   "id": "a4652c15",
   "metadata": {},
   "outputs": [],
   "source": [
    "model.fit(x=x_train,  y=y_train, batch_size=32, epochs=100,   validation_data=(x_test,y_test), verbose=1)"
   ]
  },
  {
   "cell_type": "markdown",
   "id": "dc2a722a",
   "metadata": {},
   "source": [
    "Prediction"
   ]
  },
  {
   "cell_type": "code",
   "execution_count": null,
   "id": "a2a29083",
   "metadata": {},
   "outputs": [],
   "source": [
    "train_pred = model.predict(x_train)\n",
    "test_pred = model.predict(x_test)"
   ]
  },
  {
   "cell_type": "code",
   "execution_count": null,
   "id": "07c1a03e",
   "metadata": {},
   "outputs": [],
   "source": [
    "train_pred = scale.inverse_transform(train_pred)\n",
    "test_pred = scale.inverse_transform(test_pred)"
   ]
  },
  {
   "cell_type": "markdown",
   "id": "568bc32e",
   "metadata": {},
   "source": [
    "Evaluation"
   ]
  },
  {
   "cell_type": "code",
   "execution_count": null,
   "id": "b3d2f938",
   "metadata": {},
   "outputs": [],
   "source": [
    "from sklearn.metrics import mean_squared_error\n",
    "from math import sqrt\n",
    "sqrt(mean_squared_error(y_train,train_pred))"
   ]
  },
  {
   "cell_type": "code",
   "execution_count": null,
   "id": "9c387fc2",
   "metadata": {},
   "outputs": [],
   "source": [
    "sqrt(mean_squared_error(y_test, test_pred))"
   ]
  },
  {
   "cell_type": "code",
   "execution_count": null,
   "id": "0338a802",
   "metadata": {},
   "outputs": [],
   "source": [
    "lookback = 100\n",
    "train_pred_plot = np.empty_like(df1)\n",
    "train_pred_plot[:,:] = np.nan\n",
    "train_pred_plot[lookback: len(train_pred)+lookback, :] = train_pred\n",
    "\n",
    "test_pred_plot = np.empty_like(df1)\n",
    "test_pred_plot[:,:] = np.nan\n",
    "test_pred_plot[len(train_pred)+(lookback*2)+1: len(df1)-1, : ] = test_pred"
   ]
  },
  {
   "cell_type": "markdown",
   "id": "42cad1e5",
   "metadata": {},
   "source": [
    "Plotting the Baselines and Predictions"
   ]
  },
  {
   "cell_type": "code",
   "execution_count": null,
   "id": "ac4fe66d",
   "metadata": {},
   "outputs": [],
   "source": [
    "plt.plot(scale.inverse_transform(df1),label='baseline')\n",
    "plt.plot(train_pred_plot,label='train_predictions')\n",
    "plt.plot(test_pred_plot,label= 'test_predictions')\n",
    "plt.legend()\n",
    "plt.show()"
   ]
  },
  {
   "cell_type": "code",
   "execution_count": null,
   "id": "8d52722e",
   "metadata": {},
   "outputs": [],
   "source": [
    "len(test_data)"
   ]
  },
  {
   "cell_type": "code",
   "execution_count": null,
   "id": "91fc8747",
   "metadata": {},
   "outputs": [],
   "source": [
    "x_input = test_data[307:].reshape(1,-1)\n",
    "x_input.shape"
   ]
  },
  {
   "cell_type": "code",
   "execution_count": null,
   "id": "ace2e29e",
   "metadata": {},
   "outputs": [],
   "source": [
    "temp_input=list(x_input)\n",
    "temp_input=temp_input[0].tolist()\n",
    "temp_input"
   ]
  },
  {
   "cell_type": "markdown",
   "id": "536c2e49",
   "metadata": {},
   "source": [
    "Forecasting the Prediction upto 20 Days"
   ]
  },
  {
   "cell_type": "code",
   "execution_count": null,
   "id": "67d927a9",
   "metadata": {},
   "outputs": [],
   "source": [
    "output=[]\n",
    "n_steps=100\n",
    "i=0\n",
    "while(i<21):\n",
    "    \n",
    "    if(len(temp_input)>100):\n",
    "        #print(temp_input)\n",
    "        x_input=np.array(temp_input[1:])\n",
    "        print(\"{} day input {}\".format(i,x_input))\n",
    "        x_input=x_input.reshape(1,-1)\n",
    "        x_input = x_input.reshape((1, n_steps, 1))\n",
    "        #print(x_input)\n",
    "        yhat = model.predict(x_input, verbose=0)\n",
    "        print(\"{} day output {}\".format(i,yhat))\n",
    "        temp_input.extend(yhat[0].tolist())\n",
    "        temp_input=temp_input[1:]\n",
    "        #print(temp_input)\n",
    "        output.extend(yhat.tolist())\n",
    "        i=i+1\n",
    "    else:\n",
    "        x_input = x_input.reshape((1, n_steps,1))\n",
    "        yhat = model.predict(x_input, verbose=0)\n",
    "        print(yhat[0])\n",
    "        temp_input.extend(yhat[0].tolist())\n",
    "        print(len(temp_input))\n",
    "        output.extend(yhat.tolist())\n",
    "        i=i+1\n",
    "    \n",
    "\n",
    "print(output)"
   ]
  },
  {
   "cell_type": "code",
   "execution_count": null,
   "id": "ece141ed",
   "metadata": {},
   "outputs": [],
   "source": [
    "df = df1.tolist()\n",
    "df.extend(output)\n",
    "df=scale.inverse_transform(df).tolist()\n",
    "plt.plot(df)"
   ]
  },
  {
   "cell_type": "code",
   "execution_count": null,
   "id": "b613e3a5",
   "metadata": {},
   "outputs": [],
   "source": []
  },
  {
   "cell_type": "code",
   "execution_count": null,
   "id": "6e8374bb-6eb0-4a3d-b4c6-184abf19bce2",
   "metadata": {},
   "outputs": [],
   "source": []
  }
 ],
 "metadata": {
  "kernelspec": {
   "display_name": "Python 3 (ipykernel)",
   "language": "python",
   "name": "python3"
  },
  "language_info": {
   "codemirror_mode": {
    "name": "ipython",
    "version": 3
   },
   "file_extension": ".py",
   "mimetype": "text/x-python",
   "name": "python",
   "nbconvert_exporter": "python",
   "pygments_lexer": "ipython3",
   "version": "3.11.4"
  }
 },
 "nbformat": 4,
 "nbformat_minor": 5
}
